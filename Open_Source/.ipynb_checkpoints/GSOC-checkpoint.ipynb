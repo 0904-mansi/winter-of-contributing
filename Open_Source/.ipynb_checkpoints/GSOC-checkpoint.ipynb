{
 "cells": [
  {
   "cell_type": "markdown",
   "metadata": {},
   "source": [
    "# Google Summer of Code (GSOC)\n",
    "<p align=\"center\">\n",
    "     <img width =200 height =200 src=\"https://upload.wikimedia.org/wikipedia/commons/thumb/8/85/GSoC-icon.svg/1200px-GSoC-icon.svg.png\" /></p>\n",
    "\n",
    "\n",
    "\n",
    "We all have come across GSOC either when we start our open source journey or a developer journey you think you have some general idea about it but you want to know more lets try to understand all the fuss about GSOC today\n",
    "\n",
    "## What is GSOC ?\n",
    "\n",
    "The Google Summer of Code, often abbreviated to GSoC, is an international annual program in which Google awards stipends to students who successfully complete a free and open-source software coding project during the summer. It is held annually in the summer months of a year, where students who are above the age of eighteen and enrolled in a university are supposed to complete a software coding project. Students partner with mentors to gain exposure into real world software development.\n",
    "\n",
    "## Eligibility\n",
    "You must be a student and you have to be above 18 years and enrolled in a university. If you have a student ID card, you are eligible.\n",
    "\n",
    "## Why Should I Apply?\n",
    " \n",
    "There are many reasons you should apply to GSOC. I will try to list a few of them. In just one summer, you will take your programming and communication skills to a whole new level. You will build your network, interact with some of the most extraordinary people in the field. Hey, if you have done fantastic requirements, might be offered a job or invited for an internship by the members of your community or offered a chance to present your work at a conference if this hasn’t convinced you you will be earning a stipend from Google. The amount of compensation depends on the country of your origin.\n",
    "\n",
    "## How to apply ?\n",
    "\n",
    "###  Choose the organization\n",
    "Choosing the organization is the most important decision you have to make when applying for GSoC.Choosing the right company will  definitely increase your chancesFirst you should check which companies are going to compete current year.\n",
    "Make list of companies which are in your domain.\n",
    "Now search about those companies see there past history in GSoC\n",
    "Again shortlist companies which are consistently get into GSoC.\n",
    "Now check projects in those companies. Read and understand there code.\n",
    "\n",
    "you can check for [organization](\"https://summerofcode.withgoogle.com/organizations/?sp-page=2\")\n",
    "\n",
    "### Get in touch\n",
    "after finding your ideal organization get in touch with them Apply to companies tell them what's in your mind where you want to contribute.\n",
    "If company accepts it then best of luck and start your journey to GSoC\n",
    "\n",
    "### Project proposal\n",
    "Describe how you would go about the project. This will form the core of your project proposal. Ideally should be between 1700 to 2000 words. Describe sequentially what you would do. How you came to know that which decisions are the best for the project. Which packages you will use and why. Split it into sections and points. Make it attractive.\n",
    "\n",
    "you can find few project proposal from last year [here]('https://github.com/Google-Summer-of-Code-Archive/gsoc-proposals-archive')\n",
    "\n",
    "\n",
    "## GSOC TIMELINE \n",
    "\n",
    "![NIGHT](https://miro.medium.com/max/1400/1*VMoPkeC3lcktnv0It_IftQ.png)"
   ]
  }
 ],
 "metadata": {
  "kernelspec": {
   "display_name": "Python 3",
   "language": "python",
   "name": "python3"
  },
  "language_info": {
   "codemirror_mode": {
    "name": "ipython",
    "version": 3
   },
   "file_extension": ".py",
   "mimetype": "text/x-python",
   "name": "python",
   "nbconvert_exporter": "python",
   "pygments_lexer": "ipython3",
   "version": "3.8.8"
  }
 },
 "nbformat": 4,
 "nbformat_minor": 2
}
